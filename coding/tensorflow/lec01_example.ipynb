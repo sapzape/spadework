{
 "cells": [
  {
   "cell_type": "markdown",
   "metadata": {},
   "source": [
    "출처 : http://pythonkim.tistory.com/8?category=573319"
   ]
  },
  {
   "cell_type": "code",
   "execution_count": 17,
   "metadata": {},
   "outputs": [],
   "source": [
    "import tensorflow as tf"
   ]
  },
  {
   "cell_type": "markdown",
   "metadata": {},
   "source": [
    "#### 문자열 상수 저장"
   ]
  },
  {
   "cell_type": "code",
   "execution_count": 20,
   "metadata": {},
   "outputs": [],
   "source": [
    "def hello():\n",
    "    a = tf.constant('hello, tensorflow!');\n",
    "    print(a)\n",
    "\n",
    "    # 구동하기 위한 (연산을 실행하기 위한) 준비\n",
    "    sess = tf.Session()\n",
    "    result = sess.run(a)\n",
    "    \n",
    "    print(result)\n",
    "    print(type(result))\n",
    "    print(result.decode(encoding='utf-8'))\n",
    "    print(type(result.decode(encoding='utf-8')))\n",
    "    \n",
    "    sess.close()"
   ]
  },
  {
   "cell_type": "code",
   "execution_count": 21,
   "metadata": {},
   "outputs": [
    {
     "name": "stdout",
     "output_type": "stream",
     "text": [
      "Tensor(\"Const_4:0\", shape=(), dtype=string)\n",
      "b'hello, tensorflow!'\n",
      "<class 'bytes'>\n",
      "hello, tensorflow!\n",
      "<class 'str'>\n"
     ]
    }
   ],
   "source": [
    "hello()"
   ]
  },
  {
   "cell_type": "markdown",
   "metadata": {},
   "source": [
    "#### 숫자  상수 저장"
   ]
  },
  {
   "cell_type": "code",
   "execution_count": 18,
   "metadata": {},
   "outputs": [],
   "source": [
    "def constant():\n",
    "    a = tf.constant(2)\n",
    "    b = tf.constant(3)\n",
    "    \n",
    "    with tf.Session() as sess:\n",
    "        result = sess.run(a+b)\n",
    "        #int32\n",
    "        print(type(result))\n",
    "        print(result)\n",
    "        \n",
    "        print(result + 7)\n",
    "        #int64\n",
    "        print(type(result + 7))"
   ]
  },
  {
   "cell_type": "code",
   "execution_count": 19,
   "metadata": {},
   "outputs": [
    {
     "name": "stdout",
     "output_type": "stream",
     "text": [
      "<class 'numpy.int32'>\n",
      "5\n",
      "12\n",
      "<class 'numpy.int64'>\n"
     ]
    }
   ],
   "source": [
    "constant()"
   ]
  },
  {
   "cell_type": "markdown",
   "metadata": {},
   "source": [
    "#### placeholder\n",
    "뜻 : 자리만 차지하고 있는 물건이나 사람.\n",
    "tensorflow 에서는 '머신러닝에 전달되는 데이터를 변경하기 위한 수단'으로 통한다."
   ]
  },
  {
   "cell_type": "code",
   "execution_count": 29,
   "metadata": {},
   "outputs": [],
   "source": [
    "def placeHolder():\n",
    "    # 나중에 전달할 데이터를 결정하기 위해서\n",
    "    a = tf.placeholder(tf.int16)\n",
    "    b = tf.placeholder(tf.int16)\n",
    "    \n",
    "    add = tf.add(a, b)\n",
    "#    mul = tf.mul(a, b)\n",
    "    \n",
    "    with tf.Session() as sess:\n",
    "        # feed_dict을 사용하여 파라미터 전달\n",
    "        # dictionary 자료형을 사용하여 파라미터의 갯수에 제한이 없다고 한다.\n",
    "        r1 = sess.run(add, feed_dict={a: 2, b: 3})\n",
    "#        r2 = sess.run(mul, feed_dict={a: 2, b: 3})\n",
    "        \n",
    "        print(type(r1))\n",
    "#        print(r1, r2) \n",
    "        print(r1)"
   ]
  },
  {
   "cell_type": "code",
   "execution_count": 30,
   "metadata": {},
   "outputs": [
    {
     "name": "stdout",
     "output_type": "stream",
     "text": [
      "<class 'numpy.int16'>\n",
      "5\n"
     ]
    }
   ],
   "source": [
    "placeHolder()"
   ]
  },
  {
   "cell_type": "code",
   "execution_count": 33,
   "metadata": {},
   "outputs": [],
   "source": [
    "def showTensor():\n",
    "    sess = tf.InteractiveSession()\n",
    "    \n",
    "    x = tf.Variable([1.0, 2.0])\n",
    "    a = tf.constant([3.0, 3.0])\n",
    "    \n",
    "    x.initializer.run()\n",
    "    \n",
    "#    sub = tf.sub(x, a)\n",
    "#    print(sub.eval())\n",
    "    \n",
    "    print('----------------------')\n",
    "    \n",
    "    print(a.eval())\n",
    "    print(x.eval())\n",
    "    \n",
    "    b = tf.random_uniform([3], -1.0, 1.0)\n",
    "    print(type(b))\n",
    "    print(b.eval())\n",
    "    \n",
    "    w = tf.Variable(tf.random_uniform([5, 3], 0, 32, dtype=tf.int32))\n",
    "    w.initializer.run()\n",
    "    print(w.eval())\n",
    "    \n",
    "    print('----------------------')\n",
    "    \n",
    "    x = ([1., 1.], [10., 2.])\n",
    "    print(tf.reduce_mean(x).eval())\n",
    "    print(tf.reduce_mean(x, 0).eval())\n",
    "    print(tf.reduce_mean(x, 1).eval())\n",
    "    \n",
    "    sess.close()"
   ]
  },
  {
   "cell_type": "code",
   "execution_count": 34,
   "metadata": {},
   "outputs": [
    {
     "name": "stdout",
     "output_type": "stream",
     "text": [
      "----------------------\n",
      "[ 3.  3.]\n",
      "[ 1.  2.]\n",
      "<class 'tensorflow.python.framework.ops.Tensor'>\n",
      "[ 0.60773778  0.90442562 -0.6466465 ]\n",
      "[[31  0 20]\n",
      " [ 8 11 16]\n",
      " [30 30 22]\n",
      " [26  4 30]\n",
      " [22 12 26]]\n",
      "----------------------\n",
      "3.5\n",
      "[ 5.5  1.5]\n",
      "[ 1.  6.]\n"
     ]
    }
   ],
   "source": [
    "showTensor()"
   ]
  },
  {
   "cell_type": "code",
   "execution_count": null,
   "metadata": {},
   "outputs": [],
   "source": []
  }
 ],
 "metadata": {
  "kernelspec": {
   "display_name": "Python 3",
   "language": "python",
   "name": "python3"
  },
  "language_info": {
   "codemirror_mode": {
    "name": "ipython",
    "version": 3
   },
   "file_extension": ".py",
   "mimetype": "text/x-python",
   "name": "python",
   "nbconvert_exporter": "python",
   "pygments_lexer": "ipython3",
   "version": "3.6.3"
  }
 },
 "nbformat": 4,
 "nbformat_minor": 2
}
